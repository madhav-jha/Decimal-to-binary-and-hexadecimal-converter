{
 "cells": [
  {
   "cell_type": "code",
   "execution_count": 11,
   "metadata": {
    "collapsed": true
   },
   "outputs": [],
   "source": [
    "def binary(num):\n",
    "    \n",
    "    l = []\n",
    "    while (num > 0):\n",
    "        l.append(num % 2)\n",
    "        num //= 2\n",
    "        \n",
    "    return l[::-1]"
   ]
  },
  {
   "cell_type": "code",
   "execution_count": 25,
   "metadata": {},
   "outputs": [],
   "source": [
    "def hexa(num):\n",
    "    \n",
    "    l = []\n",
    "    while num > 0:\n",
    "        if num % 16 == 10:\n",
    "            l.append('a')\n",
    "            num //= 16\n",
    "        elif num % 16 == 11:\n",
    "            l.append('b')\n",
    "            num //= 16\n",
    "        elif num % 16 == 12:\n",
    "            l.append('c')\n",
    "            num //= 16\n",
    "        elif num % 16 == 13:\n",
    "            l.append('d')\n",
    "            num //= 16\n",
    "        elif num % 16 == 14:\n",
    "            l.append('e')\n",
    "            num //= 16\n",
    "        elif num % 16 == 15:\n",
    "            l.append('f')\n",
    "            num //= 16\n",
    "        else:\n",
    "            l.append(num % 16)\n",
    "            num //= 16\n",
    "            \n",
    "    return l[::-1]"
   ]
  },
  {
   "cell_type": "code",
   "execution_count": 26,
   "metadata": {},
   "outputs": [],
   "source": [
    "def converter():\n",
    "    \n",
    "    choice = input(\"Choose: Decimal-->Binary '02', Decimal-->Hexadecimal '0x': \")\n",
    "    num = int(input(\"Enter the number: \"))\n",
    "    \n",
    "    if choice == '02':\n",
    "        for i in binary(num):\n",
    "            print(i,end='')\n",
    "            \n",
    "    elif choice == '0x':\n",
    "        for i in hexa(num):\n",
    "            print(i,end='')\n",
    "            \n",
    "    else:\n",
    "        print(\"Please select correctly!\")\n",
    "        "
   ]
  },
  {
   "cell_type": "code",
   "execution_count": 31,
   "metadata": {},
   "outputs": [
    {
     "name": "stdout",
     "output_type": "stream",
     "text": [
      "Choose: Decimal-->Binary '02', Decimal-->Hexadecimal '0x': 0x\n",
      "Enter the number: 45\n",
      "2d"
     ]
    }
   ],
   "source": [
    "converter()\n"
   ]
  },
  {
   "cell_type": "code",
   "execution_count": null,
   "metadata": {
    "collapsed": true
   },
   "outputs": [],
   "source": []
  }
 ],
 "metadata": {
  "kernelspec": {
   "display_name": "Python 3",
   "language": "python",
   "name": "python3"
  },
  "language_info": {
   "codemirror_mode": {
    "name": "ipython",
    "version": 3
   },
   "file_extension": ".py",
   "mimetype": "text/x-python",
   "name": "python",
   "nbconvert_exporter": "python",
   "pygments_lexer": "ipython3",
   "version": "3.6.3"
  }
 },
 "nbformat": 4,
 "nbformat_minor": 2
}
